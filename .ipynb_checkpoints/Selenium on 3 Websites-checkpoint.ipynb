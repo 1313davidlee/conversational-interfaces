{
 "cells": [
  {
   "cell_type": "code",
   "execution_count": null,
   "metadata": {},
   "outputs": [],
   "source": [
    "from selenium import webdriver\n",
    "import os\n",
    "import nltk\n",
    "import pandas as pd\n",
    "import csv"
   ]
  },
  {
   "cell_type": "code",
   "execution_count": null,
   "metadata": {},
   "outputs": [],
   "source": [
    "# helper functions\n",
    "def split_line(text):\n",
    "    # splits the text\n",
    "    words = text.split()\n",
    "    return words\n",
    "\n",
    "def to_lowercase(text):\n",
    "    new_words = []\n",
    "    for word in text:\n",
    "        new_word = word.lower()\n",
    "        new_words.append(new_word)\n",
    "    return new_words\n",
    "\n",
    "def add_as(text):\n",
    "    new_words = []\n",
    "    for word in text:\n",
    "        new_word = word + \"'s\"\n",
    "        new_words.append(new_word)\n",
    "    return new_words\n",
    "\n",
    "def strip_as(a_string):\n",
    "    new_string = a_string[:-2]\n",
    "    return new_string\n",
    "\n",
    "# los = list of strings\n",
    "def identify(los):\n",
    "    for each_word in los:\n",
    "        data.value = to_lowercase(data.value)\n",
    "        if each_word.lower() in data['value'].tolist():\n",
    "           return each_word.lower()\n",
    "        else:\n",
    "            data.value = add_as(data.value)\n",
    "            if each_word.lower() in data['value'].tolist():\n",
    "                print(\"added an apostrophe s and then removed it\")\n",
    "                return strip_as(each_word.lower())\n"
   ]
  },
  {
   "cell_type": "code",
   "execution_count": 7,
   "metadata": {},
   "outputs": [],
   "source": [
    "# driver = webdriver.Chrome('/Users/David/studio-conversational-news-f19/chromedriver')\n",
    "driver = webdriver.Chrome('./chromedriver')\n",
    "url1 = 'https://www.politico.com/news/2019/10/16/democratic-debate-analysis-highlights-048214'\n",
    "url2 = 'https://www.nytimes.com/2019/10/21/us/politics/amy-klobuchar-iowa.html?rref=collection%2Fnewseventcollection%2F2020-election&action=click&contentCollection=politics&region=rank&module=package&version=highlights&contentPlacement=2&pgtype=collection'\n",
    "url3 = 'https://www.nytimes.com/2019/10/24/us/politics/trump-republicans-impeachment.html'\n",
    "driver.get(url2)\n",
    "# div = driver.find_element_by_class_name('magazine-list-article')\n",
    "# direction = div.find_element_by_css_selector('a').get_attribute('href')\n",
    "# driver.get(direction)"
   ]
  },
  {
   "cell_type": "code",
   "execution_count": 8,
   "metadata": {},
   "outputs": [],
   "source": [
    "p_tags = driver.find_elements_by_css_selector('p')\n",
    "links = []\n",
    "for paragraph in p_tags:\n",
    "    links.extend([link.get_attribute('href') for link in paragraph.find_elements_by_css_selector('a')])\n"
   ]
  },
  {
   "cell_type": "code",
   "execution_count": 21,
   "metadata": {},
   "outputs": [
    {
     "name": "stdout",
     "output_type": "stream",
     "text": [
      "https://www.nytimes.com/interactive/2020/us/elections/bernie-sanders.html?module=inline\n"
     ]
    },
    {
     "data": {
      "text/plain": [
       "'Born in Brooklyn; lives in Burlington, Vt., and Washington'"
      ]
     },
     "execution_count": 21,
     "metadata": {},
     "output_type": "execute_result"
    }
   ],
   "source": [
    "print(links[4])\n",
    "driver.get(links[4])\n",
    "p_tags = driver.find_elements_by_css_selector('p')\n",
    "p_tags[5].text.split(\":\")[-1].strip()"
   ]
  },
  {
   "cell_type": "code",
   "execution_count": null,
   "metadata": {},
   "outputs": [],
   "source": [
    "# href links in <p> tags\n",
    "p_tags = driver.find_elements_by_css_selector('p')\n",
    "links = []\n",
    "for paragraph in p_tags:\n",
    "    links.extend([link.get_attribute('href') for link in paragraph.find_elements_by_css_selector('a')])\n",
    "\n",
    "print('Links embedded in <p> tags')\n",
    "x = [print(x) for x in links]"
   ]
  },
  {
   "cell_type": "code",
   "execution_count": null,
   "metadata": {},
   "outputs": [],
   "source": [
    "# All links on page\n",
    "all_links = [a_tag.get_attribute('href') for a_tag in driver.find_elements_by_css_selector('a')]\n",
    "for link in all_links:\n",
    "    print(link)"
   ]
  },
  {
   "cell_type": "code",
   "execution_count": 22,
   "metadata": {},
   "outputs": [
    {
     "name": "stdout",
     "output_type": "stream",
     "text": [
      "ADVERTISEMENT\n",
      "The independent senator from Vermont is reprising his 2016 campaign, championing economic equality.\n",
      "By Sydney EmberUpdated Oct. 24, 2019\n",
      "By Sydney EmberUpdated Oct. 24, 2019\n",
      "\n",
      "78 years old\n",
      "Born in Brooklyn; lives in Burlington, Vt., and Washington\n",
      "Former mayor of Burlington; elected to the House of Representatives in 1990; elected to the Senate in 2006\n",
      "Runner-up to Hillary Clinton in the 2016 Democratic presidential primary\n",
      "A self-described democratic socialist, he has never joined the party he hopes to lead.\n",
      "Democratic socialism has become a powerful force in American political life, but its definition is up for debate. Generally, it falls somewhere between communism and social democracy, which is common in Europe.\n",
      "\n",
      "Strictly speaking, democratic socialists do not support capitalism, meaning they want workers to control the means of production. Unlike communists, democratic socialists also believe that socialism should be achieved democratically.\n",
      "Mr. Sanders has long called for eliminating tuition at public colleges and universities. And in June, two months after one of his rivals, Senator Elizabeth Warren, proposed canceling most student loan debt, Mr. Sanders went even further, helping to introduce legislation to eliminate all of the country’s student debt.\n",
      "Mr. Sanders earned plaudits for his plan from his supporters, as well as from some in the education field. But other analysts were skeptical about its feasibility.\n",
      "According to 10 years of tax returns that he released in April, Mr. Sanders and his wife, Jane O’Meara Sanders, reported income that topped $1 million in 2016 and 2017, in part from proceeds from his books.\n",
      "\n",
      "His income puts him within the top 1 percent of taxpayers, creating some political awkwardness for the senator, who often speaks against “millionaires and billionaires.”\n",
      "We asked 21 candidates the same 18 questions. Hear Bernie Sanders’s answers.\n",
      "How similar are Mr. Sanders and Elizabeth Warren? Here’s a breakdown.\n",
      "Medicare for All and a $1.7 trillion climate plan.\n",
      "Mr. Sanders was hospitalized and treated for an artery blockage in October.\n",
      "OCTOBER 24, 2019\n",
      "OCTOBER 23, 2019\n",
      "OCTOBER 19, 2019\n",
      "OCTOBER 19, 2019\n",
      "Joe Biden »\n",
      "Cory Booker »\n",
      "Pete Buttigieg »\n",
      "Julián Castro »\n",
      "Kamala Harris »\n",
      "Tulsi Gabbard »\n",
      "Amy Klobuchar »\n",
      "Beto O’Rourke »\n",
      "Bernie Sanders »\n",
      "Tom Steyer »\n",
      "Elizabeth Warren »\n",
      "Andrew Yang »\n",
      "\n",
      "Support independent journalism.\n"
     ]
    }
   ],
   "source": [
    "# All text in <p> tags\n",
    "p_tags = driver.find_elements_by_css_selector('p')\n",
    "\n",
    "for p in p_tags:\n",
    "    print(p.text.split(\":\")[-1].strip())"
   ]
  },
  {
   "cell_type": "code",
   "execution_count": null,
   "metadata": {},
   "outputs": [],
   "source": [
    "# Links in a specific <div>\n",
    "div = driver.find_element_by_class_name('module')\n",
    "links = [a_tag.get_attribute('href') for a_tag in div.find_elements_by_css_selector('a')]\n",
    "for link in links:\n",
    "    print(link)"
   ]
  },
  {
   "cell_type": "code",
   "execution_count": null,
   "metadata": {},
   "outputs": [],
   "source": [
    "# All images on page - broken\n",
    "all_imgs = [a_tag.get_attribute('src') for a_tag in driver.find_elements_by_css_selector('img')]\n",
    "\n",
    "for img in all_imgs:\n",
    "    print(img)"
   ]
  }
 ],
 "metadata": {
  "kernelspec": {
   "display_name": "Python 3",
   "language": "python",
   "name": "python3"
  },
  "language_info": {
   "codemirror_mode": {
    "name": "ipython",
    "version": 3
   },
   "file_extension": ".py",
   "mimetype": "text/x-python",
   "name": "python",
   "nbconvert_exporter": "python",
   "pygments_lexer": "ipython3",
   "version": "3.7.3"
  }
 },
 "nbformat": 4,
 "nbformat_minor": 2
}
