{
 "cells": [
  {
   "cell_type": "code",
   "execution_count": 1,
   "metadata": {},
   "outputs": [],
   "source": [
    "from selenium import webdriver\n",
    "import os\n",
    "import nltk\n",
    "import pandas as pd\n",
    "import csv"
   ]
  },
  {
   "cell_type": "code",
   "execution_count": 2,
   "metadata": {},
   "outputs": [],
   "source": [
    "url1 = 'https://www.politico.com/news/2019/10/16/democratic-debate-analysis-highlights-048214'\n",
    "url2 = 'https://www.nytimes.com/2019/10/21/us/politics/amy-klobuchar-iowa.html?rref=collection%2Fnewseventcollection%2F2020-election&action=click&contentCollection=politics&region=rank&module=package&version=highlights&contentPlacement=2&pgtype=collection'\n",
    "url3 = 'https://www.nytimes.com/2019/10/24/us/politics/trump-republicans-impeachment.html'\n",
    "\n",
    "# driver = webdriver.Chrome('/Users/David/studio-conversational-news-f19/chromedriver')"
   ]
  },
  {
   "cell_type": "code",
   "execution_count": 3,
   "metadata": {},
   "outputs": [],
   "source": [
    "def get_links_in_ptags(url):\n",
    "    ''' \n",
    "    Input: a URL as a string\n",
    "    Returns: a list of all links embedded in <p> tags\n",
    "    '''\n",
    "    driver = webdriver.Chrome('./chromedriver')\n",
    "    driver.get(url)\n",
    "    p_tags = driver.find_elements_by_css_selector('p')\n",
    "    links = []\n",
    "    for paragraph in p_tags:\n",
    "        links.extend([link.get_attribute('href') for link in paragraph.find_elements_by_css_selector('a')])\n",
    "    return links\n",
    "\n",
    "def get_all_links(url):\n",
    "    ''' \n",
    "    Input: a URL as a string\n",
    "    Returns: a list of all links on the webpage\n",
    "    '''\n",
    "    driver = webdriver.Chrome('./chromedriver')\n",
    "    driver.get(url)\n",
    "    all_links = [a_tag.get_attribute('href') for a_tag in driver.find_elements_by_css_selector('a')]\n",
    "    return links\n",
    "\n",
    "def get_text_in_ptags(url):\n",
    "    ''' \n",
    "    Input: a URL as a string\n",
    "    Returns: All text in <p> tags \n",
    "    '''\n",
    "    driver = webdriver.Chrome('./chromedriver')\n",
    "    driver.get(url)\n",
    "    p_tags = driver.find_elements_by_css_selector('p')\n",
    "    text = ''\n",
    "    for p in p_tags:\n",
    "        text += p.text.split(\":\")[-1].strip()\n",
    "    return text\n",
    "\n",
    "def get_metadata(url):\n",
    "    ''' \n",
    "    Input: a URL as a string\n",
    "    Returns: a 2D List where each row is [og:title, og:image] for every link embedded in a p tag\n",
    "    '''\n",
    "    driver = webdriver.Chrome('./chromedriver')\n",
    "    driver.get(url)\n",
    "    links = get_links_in_ptags(url)\n",
    "    metadata = []\n",
    "    for link in links[0:5]:\n",
    "        driver.get(link)\n",
    "        og_title = driver.find_element_by_xpath(\"//meta[@property='og:title']\").get_attribute('content')\n",
    "        og_img = driver.find_element_by_xpath(\"//meta[@property='og:image']\").get_attribute('content')\n",
    "        metadata.append([og_title, og_img])\n",
    "    return metadata\n"
   ]
  },
  {
   "cell_type": "code",
   "execution_count": 5,
   "metadata": {},
   "outputs": [
    {
     "ename": "AttributeError",
     "evalue": "'str' object has no attribute 'append'",
     "output_type": "error",
     "traceback": [
      "\u001b[0;31m---------------------------------------------------------------------------\u001b[0m",
      "\u001b[0;31mAttributeError\u001b[0m                            Traceback (most recent call last)",
      "\u001b[0;32m<ipython-input-5-5584a10f4303>\u001b[0m in \u001b[0;36m<module>\u001b[0;34m\u001b[0m\n\u001b[0;32m----> 1\u001b[0;31m \u001b[0mtext\u001b[0m \u001b[0;34m=\u001b[0m \u001b[0mget_text_in_ptags\u001b[0m\u001b[0;34m(\u001b[0m\u001b[0murl1\u001b[0m\u001b[0;34m)\u001b[0m\u001b[0;34m\u001b[0m\u001b[0;34m\u001b[0m\u001b[0m\n\u001b[0m",
      "\u001b[0;32m<ipython-input-3-85e1c7df1667>\u001b[0m in \u001b[0;36mget_text_in_ptags\u001b[0;34m(url)\u001b[0m\n\u001b[1;32m     32\u001b[0m     \u001b[0mtext\u001b[0m \u001b[0;34m=\u001b[0m \u001b[0;34m''\u001b[0m\u001b[0;34m\u001b[0m\u001b[0;34m\u001b[0m\u001b[0m\n\u001b[1;32m     33\u001b[0m     \u001b[0;32mfor\u001b[0m \u001b[0mp\u001b[0m \u001b[0;32min\u001b[0m \u001b[0mp_tags\u001b[0m\u001b[0;34m:\u001b[0m\u001b[0;34m\u001b[0m\u001b[0;34m\u001b[0m\u001b[0m\n\u001b[0;32m---> 34\u001b[0;31m         \u001b[0mtext\u001b[0m\u001b[0;34m.\u001b[0m\u001b[0mappend\u001b[0m\u001b[0;34m(\u001b[0m\u001b[0mp\u001b[0m\u001b[0;34m.\u001b[0m\u001b[0mtext\u001b[0m\u001b[0;34m.\u001b[0m\u001b[0msplit\u001b[0m\u001b[0;34m(\u001b[0m\u001b[0;34m\":\"\u001b[0m\u001b[0;34m)\u001b[0m\u001b[0;34m[\u001b[0m\u001b[0;34m-\u001b[0m\u001b[0;36m1\u001b[0m\u001b[0;34m]\u001b[0m\u001b[0;34m.\u001b[0m\u001b[0mstrip\u001b[0m\u001b[0;34m(\u001b[0m\u001b[0;34m)\u001b[0m\u001b[0;34m)\u001b[0m\u001b[0;34m\u001b[0m\u001b[0;34m\u001b[0m\u001b[0m\n\u001b[0m\u001b[1;32m     35\u001b[0m     \u001b[0;32mreturn\u001b[0m \u001b[0mtext\u001b[0m\u001b[0;34m\u001b[0m\u001b[0;34m\u001b[0m\u001b[0m\n\u001b[1;32m     36\u001b[0m \u001b[0;34m\u001b[0m\u001b[0m\n",
      "\u001b[0;31mAttributeError\u001b[0m: 'str' object has no attribute 'append'"
     ]
    }
   ],
   "source": [
    "text = get_text_in_ptags(url1)"
   ]
  },
  {
   "cell_type": "code",
   "execution_count": null,
   "metadata": {},
   "outputs": [],
   "source": [
    "print(text)"
   ]
  },
  {
   "cell_type": "code",
   "execution_count": null,
   "metadata": {},
   "outputs": [],
   "source": []
  },
  {
   "cell_type": "code",
   "execution_count": null,
   "metadata": {},
   "outputs": [],
   "source": []
  },
  {
   "cell_type": "code",
   "execution_count": null,
   "metadata": {},
   "outputs": [],
   "source": []
  },
  {
   "cell_type": "code",
   "execution_count": null,
   "metadata": {},
   "outputs": [],
   "source": []
  },
  {
   "cell_type": "code",
   "execution_count": null,
   "metadata": {},
   "outputs": [],
   "source": [
    "# Links in a specific <div>\n",
    "div = driver.find_element_by_class_name('module')\n",
    "links = [a_tag.get_attribute('href') for a_tag in div.find_elements_by_css_selector('a')]\n",
    "for link in links:\n",
    "    print(link)"
   ]
  },
  {
   "cell_type": "code",
   "execution_count": null,
   "metadata": {},
   "outputs": [],
   "source": []
  },
  {
   "cell_type": "code",
   "execution_count": null,
   "metadata": {},
   "outputs": [],
   "source": []
  },
  {
   "cell_type": "code",
   "execution_count": null,
   "metadata": {},
   "outputs": [],
   "source": []
  }
 ],
 "metadata": {
  "kernelspec": {
   "display_name": "Python 3",
   "language": "python",
   "name": "python3"
  },
  "language_info": {
   "codemirror_mode": {
    "name": "ipython",
    "version": 3
   },
   "file_extension": ".py",
   "mimetype": "text/x-python",
   "name": "python",
   "nbconvert_exporter": "python",
   "pygments_lexer": "ipython3",
   "version": "3.7.3"
  }
 },
 "nbformat": 4,
 "nbformat_minor": 2
}
