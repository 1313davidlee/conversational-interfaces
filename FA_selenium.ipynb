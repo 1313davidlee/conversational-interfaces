{
 "cells": [
  {
   "cell_type": "code",
   "execution_count": 6,
   "metadata": {},
   "outputs": [
    {
     "name": "stdout",
     "output_type": "stream",
     "text": [
      "\n",
      "\n",
      "\n",
      "\n",
      "\n",
      "\n",
      "\n"
     ]
    }
   ],
   "source": [
    "from selenium import webdriver\n",
    "import os\n",
    "import nltk\n",
    "import pandas as pd\n",
    "import csv\n",
    "\n",
    "# helper functions\n",
    "def split_line(text):\n",
    "    # splits the text\n",
    "    words = text.split()\n",
    "    return words\n",
    "\n",
    "def to_lowercase(text):\n",
    "    new_words = []\n",
    "    for word in text:\n",
    "        new_word = word.lower()\n",
    "        new_words.append(new_word)\n",
    "    return new_words\n",
    "\n",
    "def add_as(text):\n",
    "    new_words = []\n",
    "    for word in text:\n",
    "        new_word = word + \"'s\"\n",
    "        new_words.append(new_word)\n",
    "    return new_words\n",
    "\n",
    "def strip_as(a_string):\n",
    "    new_string = a_string[:-2]\n",
    "    return new_string\n",
    "\n",
    "# los = list of strings\n",
    "def identify(los):\n",
    "    for each_word in los:\n",
    "        data.value = to_lowercase(data.value)\n",
    "        if each_word.lower() in data['value'].tolist():\n",
    "           return each_word.lower()\n",
    "        else:\n",
    "            data.value = add_as(data.value)\n",
    "            if each_word.lower() in data['value'].tolist():\n",
    "                print(\"added an apostrophe s and then removed it\")\n",
    "                return strip_as(each_word.lower())\n",
    "\n",
    "# finds the front page article\n",
    "driver = webdriver.Chrome('/Users/David/studio-conversational-news-f19/chromedriver')\n",
    "driver.get(\"http://foreignaffairs.com\")\n",
    "div = driver.find_element_by_class_name('magazine-list-article')\n",
    "direction = div.find_element_by_css_selector('a').get_attribute('href')\n",
    "driver.get(direction)\n",
    "\n",
    "# finds the print button and clicks it\n",
    "p = driver.find_element_by_class_name('icon-print')\n",
    "n_dir = p.get_attribute('href')\n",
    "driver.get(n_dir)\n",
    "\n",
    "# retrieves the paragraphs of the article\n",
    "paragraphs = driver.find_elements_by_css_selector('p')\n",
    "for paragraph in paragraphs:\n",
    "    print(paragraph.text)\n",
    "    \n",
    "# converts all the paragraphs to an easily retrievable variable\n",
    "pol = []\n",
    "for paragraph in paragraphs:\n",
    "    pol.append(str(paragraph.text))\n",
    "\n",
    "# variables\n",
    "# myTitle = str(driver.title)\n",
    "# data = pd.read_csv('countries.csv')\n",
    "\n",
    "# typically uses n_title, not manual_title\n",
    "# what_country = identify(myTitle)\n",
    "# print(what_country)"
   ]
  },
  {
   "cell_type": "code",
   "execution_count": null,
   "metadata": {},
   "outputs": [],
   "source": []
  }
 ],
 "metadata": {
  "kernelspec": {
   "display_name": "Python 3",
   "language": "python",
   "name": "python3"
  },
  "language_info": {
   "codemirror_mode": {
    "name": "ipython",
    "version": 3
   },
   "file_extension": ".py",
   "mimetype": "text/x-python",
   "name": "python",
   "nbconvert_exporter": "python",
   "pygments_lexer": "ipython3",
   "version": "3.7.3"
  }
 },
 "nbformat": 4,
 "nbformat_minor": 2
}
