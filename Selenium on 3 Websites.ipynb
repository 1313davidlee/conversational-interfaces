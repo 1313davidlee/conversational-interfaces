{
 "cells": [
  {
   "cell_type": "code",
   "execution_count": null,
   "metadata": {},
   "outputs": [],
   "source": [
    "from selenium import webdriver\n",
    "import os\n",
    "import nltk\n",
    "import pandas as pd\n",
    "import csv"
   ]
  },
  {
   "cell_type": "code",
   "execution_count": null,
   "metadata": {},
   "outputs": [],
   "source": [
    "# helper functions\n",
    "def split_line(text):\n",
    "    # splits the text\n",
    "    words = text.split()\n",
    "    return words\n",
    "\n",
    "def to_lowercase(text):\n",
    "    new_words = []\n",
    "    for word in text:\n",
    "        new_word = word.lower()\n",
    "        new_words.append(new_word)\n",
    "    return new_words\n",
    "\n",
    "def add_as(text):\n",
    "    new_words = []\n",
    "    for word in text:\n",
    "        new_word = word + \"'s\"\n",
    "        new_words.append(new_word)\n",
    "    return new_words\n",
    "\n",
    "def strip_as(a_string):\n",
    "    new_string = a_string[:-2]\n",
    "    return new_string\n",
    "\n",
    "# los = list of strings\n",
    "def identify(los):\n",
    "    for each_word in los:\n",
    "        data.value = to_lowercase(data.value)\n",
    "        if each_word.lower() in data['value'].tolist():\n",
    "           return each_word.lower()\n",
    "        else:\n",
    "            data.value = add_as(data.value)\n",
    "            if each_word.lower() in data['value'].tolist():\n",
    "                print(\"added an apostrophe s and then removed it\")\n",
    "                return strip_as(each_word.lower())\n"
   ]
  },
  {
   "cell_type": "code",
   "execution_count": 7,
   "metadata": {},
   "outputs": [],
   "source": [
    "# driver = webdriver.Chrome('/Users/David/studio-conversational-news-f19/chromedriver')\n",
    "driver = webdriver.Chrome('./chromedriver')\n",
    "url1 = 'https://www.politico.com/news/2019/10/16/democratic-debate-analysis-highlights-048214'\n",
    "url2 = 'https://www.nytimes.com/2019/10/21/us/politics/amy-klobuchar-iowa.html?rref=collection%2Fnewseventcollection%2F2020-election&action=click&contentCollection=politics&region=rank&module=package&version=highlights&contentPlacement=2&pgtype=collection'\n",
    "url3 = 'https://www.nytimes.com/2019/10/24/us/politics/trump-republicans-impeachment.html'\n",
    "driver.get(url2)\n",
    "# div = driver.find_element_by_class_name('magazine-list-article')\n",
    "# direction = div.find_element_by_css_selector('a').get_attribute('href')\n",
    "# driver.get(direction)"
   ]
  },
  {
   "cell_type": "code",
   "execution_count": 8,
   "metadata": {},
   "outputs": [],
   "source": [
    "p_tags = driver.find_elements_by_css_selector('p')\n",
    "links = []\n",
    "for paragraph in p_tags:\n",
    "    links.extend([link.get_attribute('href') for link in paragraph.find_elements_by_css_selector('a')])\n"
   ]
  },
  {
   "cell_type": "code",
   "execution_count": 13,
   "metadata": {},
   "outputs": [],
   "source": [
    "\n",
    "driver.get(links[3])"
   ]
  },
  {
   "cell_type": "code",
   "execution_count": null,
   "metadata": {},
   "outputs": [],
   "source": [
    "# href links in <p> tags\n",
    "p_tags = driver.find_elements_by_css_selector('p')\n",
    "links = []\n",
    "for paragraph in p_tags:\n",
    "    links.extend([link.get_attribute('href') for link in paragraph.find_elements_by_css_selector('a')])\n",
    "\n",
    "print('Links embedded in <p> tags')\n",
    "x = [print(x) for x in links]"
   ]
  },
  {
   "cell_type": "code",
   "execution_count": null,
   "metadata": {},
   "outputs": [],
   "source": [
    "# All links on page\n",
    "all_links = [a_tag.get_attribute('href') for a_tag in driver.find_elements_by_css_selector('a')]\n",
    "for link in all_links:\n",
    "    print(link)\n",
    "\n",
    "# All text in <p> tags\n",
    "p_tags = driver.find_elements_by_css_selector('p')\n",
    "\n",
    "for p in p_tags:\n",
    "    print(p.text.split(\":\")[-1].strip())"
   ]
  },
  {
   "cell_type": "code",
   "execution_count": null,
   "metadata": {},
   "outputs": [],
   "source": []
  },
  {
   "cell_type": "code",
   "execution_count": null,
   "metadata": {},
   "outputs": [],
   "source": [
    "# Links in a specific <div>\n",
    "div = driver.find_element_by_class_name('module')\n",
    "links = [a_tag.get_attribute('href') for a_tag in div.find_elements_by_css_selector('a')]\n",
    "for link in links:\n",
    "    print(link)"
   ]
  },
  {
   "cell_type": "code",
   "execution_count": null,
   "metadata": {},
   "outputs": [],
   "source": [
    "# All images on page - broken\n",
    "all_imgs = [a_tag.get_attribute('src') for a_tag in driver.find_elements_by_css_selector('img')]\n",
    "\n",
    "for img in all_imgs:\n",
    "    print(img)"
   ]
  }
 ],
 "metadata": {
  "kernelspec": {
   "display_name": "Python 3",
   "language": "python",
   "name": "python3"
  },
  "language_info": {
   "codemirror_mode": {
    "name": "ipython",
    "version": 3
   },
   "file_extension": ".py",
   "mimetype": "text/x-python",
   "name": "python",
   "nbconvert_exporter": "python",
   "pygments_lexer": "ipython3",
   "version": "3.7.3"
  }
 },
 "nbformat": 4,
 "nbformat_minor": 2
}
