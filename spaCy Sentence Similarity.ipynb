{
 "cells": [
  {
   "cell_type": "code",
   "execution_count": 2,
   "metadata": {},
   "outputs": [],
   "source": [
    "import spacy\n",
    "nlp = spacy.load(\"en_core_web_lg\")\n",
    "doc = nlp(u\"This is a sentence.\")"
   ]
  },
  {
   "cell_type": "code",
   "execution_count": 3,
   "metadata": {},
   "outputs": [],
   "source": [
    "#assign the default stopwords list to a variable\n",
    "STOP_WORDS = spacy.lang.en.stop_words.STOP_WORDS"
   ]
  },
  {
   "cell_type": "code",
   "execution_count": 4,
   "metadata": {},
   "outputs": [
    {
     "name": "stdout",
     "output_type": "stream",
     "text": [
      "{'behind', 'do', 'perhaps', 'nobody', 'though', 'enough', 'please', 'both', 'most', \"'re\", \"'d\", 'whence', 'can', 'call', 'whose', 'into', 'nevertheless', 'himself', 'forty', 'even', 'its', 'with', 'must', 'much', 'yourself', 'own', '’ll', 'others', 'too', 'move', 'fifteen', 'hereby', 'former', 'hereafter', 'beside', 'through', 'ca', 'twenty', 'which', 'everyone', 'back', 'several', 'this', 'other', 'neither', 'bottom', 'see', 'toward', 'besides', 'side', '‘m', 'every', 'became', 'afterwards', 'was', \"'ll\", 'there', 'except', 'various', 'an', 'two', 'i', 'how', 'under', 'anyone', 'not', 'namely', 'very', 'during', 'anyhow', 'same', 'one', 'at', 'latterly', 'wherever', 'when', 'nor', 'around', 'without', 'made', 'towards', 'off', 'yet', 'ours', 'go', 'thence', 'amount', 'between', 'in', 'formerly', 'myself', 'herein', 'n’t', 'only', '’ve', 'just', 'take', 'within', 'from', 'someone', 'thru', 'ourselves', 'seems', 'all', 'thereby', 'to', 'least', 'eleven', 'and', 'whereas', 'his', 'using', 'hundred', 'since', 'some', 'else', 'does', 'becoming', 'seem', 'themselves', 'thereafter', 'such', 'who', 'n‘t', 'ten', 're', 'yours', 'top', 'noone', 'had', 'would', 'cannot', 'although', 'have', 'many', 'wherein', 'latter', 'while', 'are', 'over', 'we', 'yourselves', 'sometime', 'he', 'him', 'me', '‘ll', 'rather', 'now', 'whereafter', \"'m\", 'name', 'whereby', 'that', 'few', 'twelve', 'whenever', 'her', \"n't\", 'become', 'third', 'meanwhile', 'nothing', 'for', 'thereupon', 'am', '‘re', 'what', 'along', 'seemed', 'none', 'hereupon', 'before', 'make', 'regarding', 'them', 'as', 'mine', 'last', 'will', 'anywhere', 'unless', 'never', 'after', 'less', 'whether', 'up', 'sixty', 'a', 'herself', 'somewhere', 'really', 'itself', 'than', 'always', 'until', 'has', 'us', 'their', 'get', '‘ve', 'here', 'nine', 'first', 'keep', 'three', 'moreover', 'elsewhere', 'then', 'indeed', 'mostly', 'or', '‘d', 'everywhere', 'so', 'but', 'by', 'almost', '’re', 'of', 'among', 'anyway', 'show', 'whereupon', 'been', 'quite', 'next', 'out', 'throughout', 'were', 'another', 'they', '’s', 'something', 'four', 'doing', 'empty', 'nowhere', 'however', 'being', 'may', 'your', 'whatever', 'each', 'due', 'via', 'no', 'sometimes', 'once', 'six', 'put', 'somehow', 'say', 'be', \"'s\", 'those', 'ever', 'because', 'whoever', 'did', 'full', 'beforehand', 'onto', 'our', 'used', 'below', 'done', 'often', 'across', 'the', 'thus', 'whom', 'upon', 'anything', 'alone', 'should', 'either', 'already', 'again', \"'ve\", 'amongst', 'well', 'everything', 'fifty', 'whither', 'on', 'if', 'becomes', 'part', 'therefore', 'she', 'about', 'these', 'eight', 'still', 'together', '’d', 'give', 'you', 'more', '‘s', 'hers', 'therein', 'my', 'five', 'it', 'further', 'serious', 'front', '’m', 'down', 'any', 'where', 'above', 'why', 'is', 'whole', 'against', 'seeming', 'beyond', 'also', 'could', 'otherwise', 'per', 'hence', 'might'}\n"
     ]
    }
   ],
   "source": [
    "#nlp refers to the name of the model loaded, change the name accordingly\n",
    "#nlp = en_core_web_lg.load() or nlp = spacy.load(\"en_core_web_lg\")\n",
    "print(nlp.Defaults.stop_words)"
   ]
  },
  {
   "cell_type": "code",
   "execution_count": 5,
   "metadata": {},
   "outputs": [
    {
     "data": {
      "text/plain": [
       "0.8680366536690709"
      ]
     },
     "execution_count": 5,
     "metadata": {},
     "output_type": "execute_result"
    }
   ],
   "source": [
    "doc1 = nlp(\"How do I turn sound on/off?\")\n",
    "doc2 = nlp(\"How do I obtain a pet?\")\n",
    "doc1.similarity(doc2)"
   ]
  },
  {
   "cell_type": "code",
   "execution_count": 6,
   "metadata": {},
   "outputs": [
    {
     "data": {
      "text/plain": [
       "0.49538299705127853"
      ]
     },
     "execution_count": 6,
     "metadata": {},
     "output_type": "execute_result"
    }
   ],
   "source": [
    "doc1 = nlp(\"turn sound on/off\")\n",
    "doc2 = nlp(\"obtain a pet\")\n",
    "doc1.similarity(doc2)"
   ]
  },
  {
   "cell_type": "code",
   "execution_count": 10,
   "metadata": {},
   "outputs": [],
   "source": [
    "def remove_stopwords(text):\n",
    "    doc = nlp(text.lower()) #1\n",
    "    result = [] #2\n",
    "    for token in doc: #3\n",
    "        if token.text in nlp.Defaults.stop_words: #4\n",
    "            continue\n",
    "        result.append(token.text)#5\n",
    "    return \" \".join(result) #6\n",
    "\n",
    "def remove_stopwords_fast(text):\n",
    "    doc = nlp(text.lower())\n",
    "    result = [token.text for token in doc if token.text not in nlp.Defaults.stop_words]\n",
    "    return \" \".join(result)"
   ]
  },
  {
   "cell_type": "code",
   "execution_count": 11,
   "metadata": {},
   "outputs": [
    {
     "name": "stdout",
     "output_type": "stream",
     "text": [
      "11.3 ms ± 1.37 ms per loop (mean ± std. dev. of 7 runs, 100 loops each)\n",
      "11.7 ms ± 1.82 ms per loop (mean ± std. dev. of 7 runs, 100 loops each)\n"
     ]
    }
   ],
   "source": [
    "sample = \"Thanks for the cool story bro!\"\n",
    "%timeit remove_stopwords(sample)\n",
    "%timeit remove_stopwords_fast(sample)"
   ]
  },
  {
   "cell_type": "code",
   "execution_count": 12,
   "metadata": {},
   "outputs": [],
   "source": [
    "def remove_pronoun(text):\n",
    "    doc = nlp(text.lower())\n",
    "    result = [token for token in doc if token.lemma_ != '-PRON-']\n",
    "    return \" \".join(result)"
   ]
  },
  {
   "cell_type": "code",
   "execution_count": 15,
   "metadata": {},
   "outputs": [],
   "source": [
    "def process_text(text):\n",
    "    doc = nlp(text.lower())\n",
    "    result = []\n",
    "    for token in doc:\n",
    "        if token.text in nlp.Defaults.stop_words:\n",
    "            continue\n",
    "        if token.is_punct:\n",
    "            continue\n",
    "        if token.lemma_ == '-PRON-':\n",
    "            continue\n",
    "        result.append(token.lemma_)\n",
    "    return \" \".join(result)"
   ]
  },
  {
   "cell_type": "code",
   "execution_count": 16,
   "metadata": {},
   "outputs": [],
   "source": [
    "def calculate_similarity(text1, text2):\n",
    "    base = nlp(process_text(text1))\n",
    "    compare = nlp(process_text(text2))\n",
    "    return base.similarity(compare)"
   ]
  },
  {
   "cell_type": "code",
   "execution_count": 56,
   "metadata": {},
   "outputs": [
    {
     "data": {
      "text/plain": [
       "0.608717908176107"
      ]
     },
     "execution_count": 56,
     "metadata": {},
     "output_type": "execute_result"
    }
   ],
   "source": [
    "t1 = \"What can I do if there is emergent game issue?\"\n",
    "t2 = \"What can I do if the game stuck on loading page?\"\n",
    "calculate_similarity(t1, t2)"
   ]
  },
  {
   "cell_type": "code",
   "execution_count": 55,
   "metadata": {},
   "outputs": [
    {
     "name": "stdout",
     "output_type": "stream",
     "text": [
      "0.9146971544025219\n",
      "emergent game issue hotdog\n",
      "emergent game issue corndog\n"
     ]
    }
   ],
   "source": [
    "t1 = \"What can I do if there is emergent game issue hotdog?\"\n",
    "t2 = \"We emergent can if do game I the it issue corndog?\"\n",
    "print(calculate_similarity(t1, t2))\n",
    "\n",
    "print(process_text(t1))\n",
    "print(process_text(t2))"
   ]
  },
  {
   "cell_type": "code",
   "execution_count": null,
   "metadata": {},
   "outputs": [],
   "source": []
  }
 ],
 "metadata": {
  "kernelspec": {
   "display_name": "Python 3",
   "language": "python",
   "name": "python3"
  },
  "language_info": {
   "codemirror_mode": {
    "name": "ipython",
    "version": 3
   },
   "file_extension": ".py",
   "mimetype": "text/x-python",
   "name": "python",
   "nbconvert_exporter": "python",
   "pygments_lexer": "ipython3",
   "version": "3.7.3"
  }
 },
 "nbformat": 4,
 "nbformat_minor": 2
}
